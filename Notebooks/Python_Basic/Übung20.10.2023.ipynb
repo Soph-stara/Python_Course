{
 "cells": [
  {
   "cell_type": "code",
   "execution_count": 26,
   "id": "989da789-1ba0-4731-86ee-61b1408854df",
   "metadata": {
    "tags": []
   },
   "outputs": [],
   "source": [
    "text = \" Today, the tools for capturing data both at the mega-scale and at the milli-scale are just dreadful. After you have captured the data, you need to curate it before you can start doing any kind of data analysis, and we lack good tools for both data curation and data analysis. Then comes the publication of the results of your research, and the published literature is just the tip of the data iceberg. By this I mean that people collect a lot of data and then reduce this down to some number of column inches in Science or Nature—or 10 pages if it is a computer science person writing. So what I mean by data iceberg is that there is a lot of data that is collected but not curated or published in any systematic way. There are some exceptions, and I think that these cases are a good place for us to look for best practices. I will talk about how the whole process of peer review has got to change and the way in which I think it is changing and what CSTB can do to help all of us get access to our research.\""
   ]
  },
  {
   "cell_type": "code",
   "execution_count": 27,
   "id": "dbf7a5ac-7597-40d9-a61b-944a81387c80",
   "metadata": {
    "tags": []
   },
   "outputs": [],
   "source": [
    "list_of_words = text.split()"
   ]
  },
  {
   "cell_type": "code",
   "execution_count": 28,
   "id": "78d47e2a-5bde-4953-b2ff-023c35081623",
   "metadata": {
    "tags": []
   },
   "outputs": [],
   "source": [
    "list_of_words = [l.lower() for l in list_of_words]"
   ]
  },
  {
   "cell_type": "code",
   "execution_count": 29,
   "id": "fa1539ec-9d4f-4168-a0d0-3fe1c1e22458",
   "metadata": {
    "tags": []
   },
   "outputs": [],
   "source": [
    "list_of_words = [l.lower() for l in list_of_words]"
   ]
  },
  {
   "cell_type": "code",
   "execution_count": 31,
   "id": "526984ce-cd6c-4721-b168-830500104cec",
   "metadata": {
    "tags": []
   },
   "outputs": [],
   "source": [
    "list_of_words = [l.strip(\".,;:\") for l in list_of_words]"
   ]
  },
  {
   "cell_type": "code",
   "execution_count": 58,
   "id": "15c32c3a-d611-46f8-b734-69aaa9c71a0c",
   "metadata": {
    "tags": []
   },
   "outputs": [],
   "source": [
    "#create a dicitionary with frequencies\n",
    "freqdist = {}\n",
    "for word in list_of_words:\n",
    "    if word in freqdist:\n",
    "        freqdist [word] = freqdist [word] + 1\n",
    "    else:\n",
    "        freqdist[word] = 1\n",
    "        \n",
    "# now I can see how often certain words appear in the text!"
   ]
  },
  {
   "cell_type": "code",
   "execution_count": 39,
   "id": "6553b7d1-3dd1-4507-99bc-fa4dad658625",
   "metadata": {
    "tags": []
   },
   "outputs": [
    {
     "data": {
      "text/plain": [
       "{'today': 1,\n",
       " 'the': 11,\n",
       " 'tools': 2,\n",
       " 'for': 4,\n",
       " 'capturing': 1,\n",
       " 'data': 9,\n",
       " 'both': 2,\n",
       " 'at': 2,\n",
       " 'mega-scale': 1,\n",
       " 'and': 8,\n",
       " 'milli-scale': 1,\n",
       " 'are': 3,\n",
       " 'just': 2,\n",
       " 'dreadful': 1,\n",
       " 'after': 1,\n",
       " 'you': 3,\n",
       " 'have': 1,\n",
       " 'captured': 1,\n",
       " 'need': 1,\n",
       " 'to': 6,\n",
       " 'curate': 1,\n",
       " 'it': 3,\n",
       " 'before': 1,\n",
       " 'can': 2,\n",
       " 'start': 1,\n",
       " 'doing': 1,\n",
       " 'any': 2,\n",
       " 'kind': 1,\n",
       " 'of': 9,\n",
       " 'analysis': 2,\n",
       " 'we': 1,\n",
       " 'lack': 1,\n",
       " 'good': 2,\n",
       " 'curation': 1,\n",
       " 'then': 2,\n",
       " 'comes': 1,\n",
       " 'publication': 1,\n",
       " 'results': 1,\n",
       " 'your': 1,\n",
       " 'research': 2,\n",
       " 'published': 2,\n",
       " 'literature': 1,\n",
       " 'is': 6,\n",
       " 'tip': 1,\n",
       " 'iceberg': 2,\n",
       " 'by': 2,\n",
       " 'this': 2,\n",
       " 'i': 5,\n",
       " 'mean': 2,\n",
       " 'that': 4,\n",
       " 'people': 1,\n",
       " 'collect': 1,\n",
       " 'a': 4,\n",
       " 'lot': 2,\n",
       " 'reduce': 1,\n",
       " 'down': 1,\n",
       " 'some': 2,\n",
       " 'number': 1,\n",
       " 'column': 1,\n",
       " 'inches': 1,\n",
       " 'in': 3,\n",
       " 'science': 2,\n",
       " 'or': 2,\n",
       " 'nature—or': 1,\n",
       " '10': 1,\n",
       " 'pages': 1,\n",
       " 'if': 1,\n",
       " 'computer': 1,\n",
       " 'person': 1,\n",
       " 'writing': 1,\n",
       " 'so': 1,\n",
       " 'what': 2,\n",
       " 'there': 2,\n",
       " 'collected': 1,\n",
       " 'but': 1,\n",
       " 'not': 1,\n",
       " 'curated': 1,\n",
       " 'systematic': 1,\n",
       " 'way': 2,\n",
       " 'exceptions': 1,\n",
       " 'think': 2,\n",
       " 'these': 1,\n",
       " 'cases': 1,\n",
       " 'place': 1,\n",
       " 'us': 2,\n",
       " 'look': 1,\n",
       " 'best': 1,\n",
       " 'practices': 1,\n",
       " 'will': 1,\n",
       " 'talk': 1,\n",
       " 'about': 1,\n",
       " 'how': 1,\n",
       " 'whole': 1,\n",
       " 'process': 1,\n",
       " 'peer': 1,\n",
       " 'review': 1,\n",
       " 'has': 1,\n",
       " 'got': 1,\n",
       " 'change': 1,\n",
       " 'which': 1,\n",
       " 'changing': 1,\n",
       " 'cstb': 1,\n",
       " 'do': 1,\n",
       " 'help': 1,\n",
       " 'all': 1,\n",
       " 'get': 1,\n",
       " 'access': 1,\n",
       " 'our': 1}"
      ]
     },
     "execution_count": 39,
     "metadata": {},
     "output_type": "execute_result"
    }
   ],
   "source": [
    "freqdist"
   ]
  },
  {
   "cell_type": "code",
   "execution_count": 40,
   "id": "6565a010-5938-4f33-a8df-8d724b3c10f1",
   "metadata": {
    "tags": []
   },
   "outputs": [],
   "source": [
    "#sort the dictionary by frequency\n",
    "sorted_dict=dict(sorted(freqdist.items(), key=lambda item: item[1]))"
   ]
  },
  {
   "cell_type": "code",
   "execution_count": 41,
   "id": "48447f0c-5c2b-465e-8719-c4f0a0da66e5",
   "metadata": {
    "tags": []
   },
   "outputs": [
    {
     "data": {
      "text/plain": [
       "{'today': 1,\n",
       " 'capturing': 1,\n",
       " 'mega-scale': 1,\n",
       " 'milli-scale': 1,\n",
       " 'dreadful': 1,\n",
       " 'after': 1,\n",
       " 'have': 1,\n",
       " 'captured': 1,\n",
       " 'need': 1,\n",
       " 'curate': 1,\n",
       " 'before': 1,\n",
       " 'start': 1,\n",
       " 'doing': 1,\n",
       " 'kind': 1,\n",
       " 'we': 1,\n",
       " 'lack': 1,\n",
       " 'curation': 1,\n",
       " 'comes': 1,\n",
       " 'publication': 1,\n",
       " 'results': 1,\n",
       " 'your': 1,\n",
       " 'literature': 1,\n",
       " 'tip': 1,\n",
       " 'people': 1,\n",
       " 'collect': 1,\n",
       " 'reduce': 1,\n",
       " 'down': 1,\n",
       " 'number': 1,\n",
       " 'column': 1,\n",
       " 'inches': 1,\n",
       " 'nature—or': 1,\n",
       " '10': 1,\n",
       " 'pages': 1,\n",
       " 'if': 1,\n",
       " 'computer': 1,\n",
       " 'person': 1,\n",
       " 'writing': 1,\n",
       " 'so': 1,\n",
       " 'collected': 1,\n",
       " 'but': 1,\n",
       " 'not': 1,\n",
       " 'curated': 1,\n",
       " 'systematic': 1,\n",
       " 'exceptions': 1,\n",
       " 'these': 1,\n",
       " 'cases': 1,\n",
       " 'place': 1,\n",
       " 'look': 1,\n",
       " 'best': 1,\n",
       " 'practices': 1,\n",
       " 'will': 1,\n",
       " 'talk': 1,\n",
       " 'about': 1,\n",
       " 'how': 1,\n",
       " 'whole': 1,\n",
       " 'process': 1,\n",
       " 'peer': 1,\n",
       " 'review': 1,\n",
       " 'has': 1,\n",
       " 'got': 1,\n",
       " 'change': 1,\n",
       " 'which': 1,\n",
       " 'changing': 1,\n",
       " 'cstb': 1,\n",
       " 'do': 1,\n",
       " 'help': 1,\n",
       " 'all': 1,\n",
       " 'get': 1,\n",
       " 'access': 1,\n",
       " 'our': 1,\n",
       " 'tools': 2,\n",
       " 'both': 2,\n",
       " 'at': 2,\n",
       " 'just': 2,\n",
       " 'can': 2,\n",
       " 'any': 2,\n",
       " 'analysis': 2,\n",
       " 'good': 2,\n",
       " 'then': 2,\n",
       " 'research': 2,\n",
       " 'published': 2,\n",
       " 'iceberg': 2,\n",
       " 'by': 2,\n",
       " 'this': 2,\n",
       " 'mean': 2,\n",
       " 'lot': 2,\n",
       " 'some': 2,\n",
       " 'science': 2,\n",
       " 'or': 2,\n",
       " 'what': 2,\n",
       " 'there': 2,\n",
       " 'way': 2,\n",
       " 'think': 2,\n",
       " 'us': 2,\n",
       " 'are': 3,\n",
       " 'you': 3,\n",
       " 'it': 3,\n",
       " 'in': 3,\n",
       " 'for': 4,\n",
       " 'that': 4,\n",
       " 'a': 4,\n",
       " 'i': 5,\n",
       " 'to': 6,\n",
       " 'is': 6,\n",
       " 'and': 8,\n",
       " 'data': 9,\n",
       " 'of': 9,\n",
       " 'the': 11}"
      ]
     },
     "execution_count": 41,
     "metadata": {},
     "output_type": "execute_result"
    }
   ],
   "source": [
    "sorted_dict"
   ]
  },
  {
   "cell_type": "code",
   "execution_count": 59,
   "id": "d09dcee7-e198-4b68-8e4b-894685f85da8",
   "metadata": {
    "tags": []
   },
   "outputs": [],
   "source": [
    "from collections import Counter"
   ]
  },
  {
   "cell_type": "code",
   "execution_count": 60,
   "id": "0118a3cb-48a3-484f-bf09-491831ded47b",
   "metadata": {
    "tags": []
   },
   "outputs": [],
   "source": [
    "freqdist2=Counter(list_of_words)"
   ]
  },
  {
   "cell_type": "code",
   "execution_count": 61,
   "id": "9c909418-7141-4ff3-a73b-b19b390b8fd0",
   "metadata": {
    "tags": []
   },
   "outputs": [
    {
     "data": {
      "text/plain": [
       "Counter({'the': 11,\n",
       "         'data': 9,\n",
       "         'of': 9,\n",
       "         'and': 8,\n",
       "         'to': 6,\n",
       "         'is': 6,\n",
       "         'i': 5,\n",
       "         'for': 4,\n",
       "         'that': 4,\n",
       "         'a': 4,\n",
       "         'are': 3,\n",
       "         'you': 3,\n",
       "         'it': 3,\n",
       "         'in': 3,\n",
       "         'tools': 2,\n",
       "         'both': 2,\n",
       "         'at': 2,\n",
       "         'just': 2,\n",
       "         'can': 2,\n",
       "         'any': 2,\n",
       "         'analysis': 2,\n",
       "         'good': 2,\n",
       "         'then': 2,\n",
       "         'research': 2,\n",
       "         'published': 2,\n",
       "         'iceberg': 2,\n",
       "         'by': 2,\n",
       "         'this': 2,\n",
       "         'mean': 2,\n",
       "         'lot': 2,\n",
       "         'some': 2,\n",
       "         'science': 2,\n",
       "         'or': 2,\n",
       "         'what': 2,\n",
       "         'there': 2,\n",
       "         'way': 2,\n",
       "         'think': 2,\n",
       "         'us': 2,\n",
       "         'today': 1,\n",
       "         'capturing': 1,\n",
       "         'mega-scale': 1,\n",
       "         'milli-scale': 1,\n",
       "         'dreadful': 1,\n",
       "         'after': 1,\n",
       "         'have': 1,\n",
       "         'captured': 1,\n",
       "         'need': 1,\n",
       "         'curate': 1,\n",
       "         'before': 1,\n",
       "         'start': 1,\n",
       "         'doing': 1,\n",
       "         'kind': 1,\n",
       "         'we': 1,\n",
       "         'lack': 1,\n",
       "         'curation': 1,\n",
       "         'comes': 1,\n",
       "         'publication': 1,\n",
       "         'results': 1,\n",
       "         'your': 1,\n",
       "         'literature': 1,\n",
       "         'tip': 1,\n",
       "         'people': 1,\n",
       "         'collect': 1,\n",
       "         'reduce': 1,\n",
       "         'down': 1,\n",
       "         'number': 1,\n",
       "         'column': 1,\n",
       "         'inches': 1,\n",
       "         'nature—or': 1,\n",
       "         '10': 1,\n",
       "         'pages': 1,\n",
       "         'if': 1,\n",
       "         'computer': 1,\n",
       "         'person': 1,\n",
       "         'writing': 1,\n",
       "         'so': 1,\n",
       "         'collected': 1,\n",
       "         'but': 1,\n",
       "         'not': 1,\n",
       "         'curated': 1,\n",
       "         'systematic': 1,\n",
       "         'exceptions': 1,\n",
       "         'these': 1,\n",
       "         'cases': 1,\n",
       "         'place': 1,\n",
       "         'look': 1,\n",
       "         'best': 1,\n",
       "         'practices': 1,\n",
       "         'will': 1,\n",
       "         'talk': 1,\n",
       "         'about': 1,\n",
       "         'how': 1,\n",
       "         'whole': 1,\n",
       "         'process': 1,\n",
       "         'peer': 1,\n",
       "         'review': 1,\n",
       "         'has': 1,\n",
       "         'got': 1,\n",
       "         'change': 1,\n",
       "         'which': 1,\n",
       "         'changing': 1,\n",
       "         'cstb': 1,\n",
       "         'do': 1,\n",
       "         'help': 1,\n",
       "         'all': 1,\n",
       "         'get': 1,\n",
       "         'access': 1,\n",
       "         'our': 1})"
      ]
     },
     "execution_count": 61,
     "metadata": {},
     "output_type": "execute_result"
    }
   ],
   "source": [
    "freqdist2"
   ]
  },
  {
   "cell_type": "code",
   "execution_count": null,
   "id": "852e5f34-bf67-46d1-9127-e96a98080f4b",
   "metadata": {},
   "outputs": [],
   "source": []
  }
 ],
 "metadata": {
  "kernelspec": {
   "display_name": "Python 3 (ipykernel)",
   "language": "python",
   "name": "python3"
  },
  "language_info": {
   "codemirror_mode": {
    "name": "ipython",
    "version": 3
   },
   "file_extension": ".py",
   "mimetype": "text/x-python",
   "name": "python",
   "nbconvert_exporter": "python",
   "pygments_lexer": "ipython3",
   "version": "3.11.5"
  }
 },
 "nbformat": 4,
 "nbformat_minor": 5
}
