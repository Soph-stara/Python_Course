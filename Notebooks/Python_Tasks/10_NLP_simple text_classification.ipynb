{
 "cells": [
  {
   "cell_type": "markdown",
   "metadata": {
    "application/vnd.databricks.v1+cell": {
     "cellMetadata": {},
     "inputWidgets": {},
     "nuid": "c3afdc32-99e4-4bb1-8a53-f41a33cc7f7d",
     "showTitle": false,
     "title": ""
    }
   },
   "source": [
    "# Introduction to text classification\n",
    "\n",
    "In this task, you will get a sense of using Python to do **text processing**. The dataset that we have is a public collection of SMS messages that have been collected for mobile phone spam reserach. <br>\n",
    "The **goal** is: based on the text in the sms message to predict whether the message is a spam or not. We will illustrate basic text classification approchaches on [\n",
    "SMS Spam Collection](https://archive.ics.uci.edu/ml/datasets/sms+spam+collection) data set. \n",
    "The SMS Spam Collection is a set of SMS tagged messages that have been collected for SMS Spam research. It contains one set of SMS messages in English of 5,574 messages, tagged acording being ham (legitimate) or spam.\n",
    "\n",
    "\n",
    "## Dataset Information\n",
    "We have the same set of data in two file formats: csv and txt file. Baesd on your preference, you can choose one file format to work with 😊. <br>\n",
    "The dataset consists of a collection of different sms messages, with each line consisted of one label (either ham or spam) and the raw message. \n",
    "\n",
    "**See some examples below:** <br>\n",
    "ham What you doing?how are you? <br>\n",
    "ham Ok lar... Joking wif u oni... <br>\n",
    "ham dun say so early hor... U c already then say... <br>\n",
    "ham MY NO. IN LUTON 0125698789 RING ME IF UR AROUND! H*<br>\n",
    "ham Siva is in hostel aha:-.<br>\n",
    "ham Cos i was out shopping wif darren jus now n i called him 2 ask wat present he wan lor. Then he started guessing who i was wif n he finally guessed darren lor.<br>\n",
    "spam FreeMsg: Txt: CALL to No: 86888 & claim your reward of 3 hours talk time to use from your phone now! ubscribe6GBP/ mnth inc 3hrs 16 stop?txtStop<br>\n",
    "spam Sunshine Quiz! Win a super Sony DVD recorder if you canname the capital of Australia? Text MQUIZ to 82277. B<br>\n",
    "spam URGENT! Your Mobile No 07808726822 was awarded a L2,000 Bonus Caller Prize on 02/09/03! This is our 2nd attempt to contact YOU! Call 0871-872-9758 BOX95QU<br>\n",
    "\n",
    "Note: the messages are not chronologically sorted.\n",
    "\n",
    "Dataset Citation:http://www.dt.fee.unicamp.br/~tiago/smsspamcollection/\n",
    "The SMS Spam Collection has been created by [Tiago A. Almeida](http://dcomp.sor.ufscar.br/talmeida/) and [José María Gómez Hidalgo](http://www.esp.uem.es/jmgomez)."
   ]
  },
  {
   "cell_type": "code",
   "execution_count": null,
   "metadata": {
    "application/vnd.databricks.v1+cell": {
     "cellMetadata": {},
     "inputWidgets": {},
     "nuid": "4e2f1cb7-6cf4-4948-8a49-e591bcf4374f",
     "showTitle": false,
     "title": ""
    }
   },
   "outputs": [
    {
     "data": {
      "application/vnd.databricks.v1+bamboolib_hint": "{\"pd.DataFrames\": [], \"version\": \"0.0.1\"}",
      "text/plain": []
     },
     "metadata": {
      "application/vnd.databricks.v1+output": {
       "addedWidgets": {},
       "arguments": {},
       "data": {
        "application/vnd.databricks.v1+bamboolib_hint": "{\"pd.DataFrames\": [], \"version\": \"0.0.1\"}",
        "text/plain": ""
       },
       "datasetInfos": [],
       "metadata": {},
       "removedWidgets": [],
       "type": "mimeBundle"
      }
     },
     "output_type": "display_data"
    }
   ],
   "source": [
    "import os\n",
    "import pandas as pd\n",
    "import matplotlib.pyplot as plt\n",
    "import seaborn as sns\n",
    "import nltk\n",
    "from zipfile import ZipFile"
   ]
  },
  {
   "cell_type": "markdown",
   "metadata": {
    "application/vnd.databricks.v1+cell": {
     "cellMetadata": {},
     "inputWidgets": {},
     "nuid": "75757aa6-fce3-4148-8886-f2a9774bc479",
     "showTitle": false,
     "title": ""
    }
   },
   "source": [
    "### Disabling MLFlow autologging"
   ]
  },
  {
   "cell_type": "code",
   "execution_count": null,
   "metadata": {
    "application/vnd.databricks.v1+cell": {
     "cellMetadata": {},
     "inputWidgets": {},
     "nuid": "88b8398f-9dae-453e-b5b1-ac5ca04debad",
     "showTitle": false,
     "title": ""
    }
   },
   "outputs": [],
   "source": [
    "import mlflow\n",
    "mlflow.autolog(disable=True)"
   ]
  },
  {
   "cell_type": "markdown",
   "metadata": {
    "application/vnd.databricks.v1+cell": {
     "cellMetadata": {},
     "inputWidgets": {},
     "nuid": "6ab44086-3c8f-497e-a9a4-f62127b7e84b",
     "showTitle": false,
     "title": ""
    }
   },
   "source": [
    "### Reading dataset"
   ]
  },
  {
   "cell_type": "code",
   "execution_count": null,
   "metadata": {
    "application/vnd.databricks.v1+cell": {
     "cellMetadata": {},
     "inputWidgets": {},
     "nuid": "9b04f047-cf17-4bb4-9376-3463321917c6",
     "showTitle": false,
     "title": ""
    },
    "colab": {
     "base_uri": "https://localhost:8080/",
     "height": 204
    },
    "id": "NQjSt9SXPQtX",
    "outputId": "f85c935c-71bc-4362-ef5a-0469a4881886"
   },
   "outputs": [
    {
     "data": {
      "text/html": [
       "<div>\n",
       "<style scoped>\n",
       "    .dataframe tbody tr th:only-of-type {\n",
       "        vertical-align: middle;\n",
       "    }\n",
       "\n",
       "    .dataframe tbody tr th {\n",
       "        vertical-align: top;\n",
       "    }\n",
       "\n",
       "    .dataframe thead th {\n",
       "        text-align: right;\n",
       "    }\n",
       "</style>\n",
       "<table border=\"1\" class=\"dataframe\">\n",
       "  <thead>\n",
       "    <tr style=\"text-align: right;\">\n",
       "      <th></th>\n",
       "      <th>Target</th>\n",
       "      <th>Text</th>\n",
       "    </tr>\n",
       "  </thead>\n",
       "  <tbody>\n",
       "    <tr>\n",
       "      <th>0</th>\n",
       "      <td>ham</td>\n",
       "      <td>Go until jurong point, crazy.. Available only ...</td>\n",
       "    </tr>\n",
       "    <tr>\n",
       "      <th>1</th>\n",
       "      <td>ham</td>\n",
       "      <td>Ok lar... Joking wif u oni...</td>\n",
       "    </tr>\n",
       "    <tr>\n",
       "      <th>2</th>\n",
       "      <td>spam</td>\n",
       "      <td>Free entry in 2 a wkly comp to win FA Cup fina...</td>\n",
       "    </tr>\n",
       "    <tr>\n",
       "      <th>3</th>\n",
       "      <td>ham</td>\n",
       "      <td>U dun say so early hor... U c already then say...</td>\n",
       "    </tr>\n",
       "    <tr>\n",
       "      <th>4</th>\n",
       "      <td>ham</td>\n",
       "      <td>Nah I don't think he goes to usf, he lives aro...</td>\n",
       "    </tr>\n",
       "  </tbody>\n",
       "</table>\n",
       "</div>"
      ]
     },
     "metadata": {
      "application/vnd.databricks.v1+output": {
       "addedWidgets": {},
       "arguments": {},
       "data": "<div>\n<style scoped>\n    .dataframe tbody tr th:only-of-type {\n        vertical-align: middle;\n    }\n\n    .dataframe tbody tr th {\n        vertical-align: top;\n    }\n\n    .dataframe thead th {\n        text-align: right;\n    }\n</style>\n<table border=\"1\" class=\"dataframe\">\n  <thead>\n    <tr style=\"text-align: right;\">\n      <th></th>\n      <th>Target</th>\n      <th>Text</th>\n    </tr>\n  </thead>\n  <tbody>\n    <tr>\n      <th>0</th>\n      <td>ham</td>\n      <td>Go until jurong point, crazy.. Available only ...</td>\n    </tr>\n    <tr>\n      <th>1</th>\n      <td>ham</td>\n      <td>Ok lar... Joking wif u oni...</td>\n    </tr>\n    <tr>\n      <th>2</th>\n      <td>spam</td>\n      <td>Free entry in 2 a wkly comp to win FA Cup fina...</td>\n    </tr>\n    <tr>\n      <th>3</th>\n      <td>ham</td>\n      <td>U dun say so early hor... U c already then say...</td>\n    </tr>\n    <tr>\n      <th>4</th>\n      <td>ham</td>\n      <td>Nah I don't think he goes to usf, he lives aro...</td>\n    </tr>\n  </tbody>\n</table>\n</div>",
       "datasetInfos": [],
       "metadata": {},
       "removedWidgets": [],
       "textData": null,
       "type": "htmlSandbox"
      }
     },
     "output_type": "display_data"
    }
   ],
   "source": [
    "df = pd.read_csv('./data/spam.csv', sep='\\t')\n",
    "df.head()"
   ]
  },
  {
   "cell_type": "markdown",
   "metadata": {
    "application/vnd.databricks.v1+cell": {
     "cellMetadata": {},
     "inputWidgets": {},
     "nuid": "003807d8-3c09-4512-a09d-4676c0ec865f",
     "showTitle": false,
     "title": ""
    },
    "id": "JHj6g3eoPQtb"
   },
   "source": [
    "## Preparation of train and test data sets\n",
    "\n",
    "Separate and rename target values."
   ]
  },
  {
   "cell_type": "code",
   "execution_count": null,
   "metadata": {
    "application/vnd.databricks.v1+cell": {
     "cellMetadata": {},
     "inputWidgets": {},
     "nuid": "0d5c70f9-3c07-42ff-950d-1452755e6912",
     "showTitle": false,
     "title": ""
    },
    "id": "pJGOdV9JPQtc"
   },
   "outputs": [
    {
     "data": {
      "text/plain": [
       "\n",
       " 0    Go until jurong point, crazy.. Available only ...\n",
       "1                        Ok lar... Joking wif u oni...\n",
       "2    Free entry in 2 a wkly comp to win FA Cup fina...\n",
       "3    U dun say so early hor... U c already then say...\n",
       "4    Nah I don't think he goes to usf, he lives aro...\n",
       "Name: Text, dtype: object\n",
       "\n",
       " 0    1\n",
       "1    1\n",
       "2    0\n",
       "3    1\n",
       "4    1\n",
       "Name: Target, dtype: int64\n"
      ]
     },
     "metadata": {
      "application/vnd.databricks.v1+output": {
       "addedWidgets": {},
       "arguments": {},
       "data": "\n 0    Go until jurong point, crazy.. Available only ...\n1                        Ok lar... Joking wif u oni...\n2    Free entry in 2 a wkly comp to win FA Cup fina...\n3    U dun say so early hor... U c already then say...\n4    Nah I don't think he goes to usf, he lives aro...\nName: Text, dtype: object\n\n 0    1\n1    1\n2    0\n3    1\n4    1\nName: Target, dtype: int64\n",
       "datasetInfos": [],
       "metadata": {},
       "removedWidgets": [],
       "type": "ansi"
      }
     },
     "output_type": "display_data"
    }
   ],
   "source": [
    "data = df['Text']\n",
    "target = df['Target'].replace('ham', 1).replace('spam', 0)\n",
    "names = ['spam', 'ham']\n",
    "print(\"\\n\", data[:5])\n",
    "print(\"\\n\", target[:5])"
   ]
  },
  {
   "cell_type": "markdown",
   "metadata": {
    "application/vnd.databricks.v1+cell": {
     "cellMetadata": {},
     "inputWidgets": {},
     "nuid": "9dd096c0-f364-4b85-8b2c-199cea1ef479",
     "showTitle": false,
     "title": ""
    },
    "id": "wUQ1YDt0PQte"
   },
   "source": [
    "Shuffle the data and split it to train and test parts."
   ]
  },
  {
   "cell_type": "code",
   "execution_count": null,
   "metadata": {
    "application/vnd.databricks.v1+cell": {
     "cellMetadata": {},
     "inputWidgets": {},
     "nuid": "d00bbf4a-d63a-4c79-b27f-5cd469774405",
     "showTitle": false,
     "title": ""
    },
    "id": "ijMnO8uSPQtf"
   },
   "outputs": [
    {
     "data": {
      "text/plain": [
       "Train size: 4457\n",
       "Test size: 1115\n"
      ]
     },
     "metadata": {
      "application/vnd.databricks.v1+output": {
       "addedWidgets": {},
       "arguments": {},
       "data": "Train size: 4457\nTest size: 1115\n",
       "datasetInfos": [],
       "metadata": {},
       "removedWidgets": [],
       "type": "ansi"
      }
     },
     "output_type": "display_data"
    }
   ],
   "source": [
    "from sklearn.model_selection import train_test_split\n",
    "\n",
    "X_train, X_test, y_train, y_test = train_test_split(data, target, test_size=0.2)\n",
    "print('Train size: {}'.format(len(X_train)))\n",
    "print('Test size: {}'.format(len(X_test)))"
   ]
  },
  {
   "cell_type": "markdown",
   "metadata": {
    "application/vnd.databricks.v1+cell": {
     "cellMetadata": {},
     "inputWidgets": {},
     "nuid": "b4a6e839-e741-4b32-9cba-4dc826bd38c4",
     "showTitle": false,
     "title": ""
    },
    "id": "0NcOcGHGPQtj"
   },
   "source": [
    "## Data preprocessing\n",
    "\n",
    "Tokenize the texts. Experiment with various tokenizers from the [NLTK](http://www.nltk.org/api/nltk.tokenize.html) library."
   ]
  },
  {
   "cell_type": "code",
   "execution_count": null,
   "metadata": {
    "application/vnd.databricks.v1+cell": {
     "cellMetadata": {},
     "inputWidgets": {},
     "nuid": "2eddcea6-8a1e-41ba-a533-4c41ad2d8bce",
     "showTitle": false,
     "title": ""
    }
   },
   "outputs": [],
   "source": [
    "from nltk.tokenize.casual import casual_tokenize"
   ]
  },
  {
   "cell_type": "code",
   "execution_count": null,
   "metadata": {
    "application/vnd.databricks.v1+cell": {
     "cellMetadata": {},
     "inputWidgets": {},
     "nuid": "1637a9a2-48ca-4b28-b25c-67108a0eb6cd",
     "showTitle": false,
     "title": ""
    },
    "id": "eafsKD5-PQtj"
   },
   "outputs": [
    {
     "data": {
      "text/plain": [
       "Nah I don't think he goes to usf, he lives around here though\n"
      ]
     },
     "metadata": {
      "application/vnd.databricks.v1+output": {
       "addedWidgets": {},
       "arguments": {},
       "data": "Nah I don't think he goes to usf, he lives around here though\n",
       "datasetInfos": [],
       "metadata": {},
       "removedWidgets": [],
       "type": "ansi"
      }
     },
     "output_type": "display_data"
    }
   ],
   "source": [
    "sms = data[4]\n",
    "print(sms)"
   ]
  },
  {
   "cell_type": "code",
   "execution_count": null,
   "metadata": {
    "application/vnd.databricks.v1+cell": {
     "cellMetadata": {},
     "inputWidgets": {},
     "nuid": "bacae305-78ef-410d-a26f-346c84cd5a9b",
     "showTitle": false,
     "title": ""
    }
   },
   "outputs": [
    {
     "data": {
      "text/plain": [
       "['nah', 'i', \"don't\", 'think', 'he', 'goes', 'to', 'usf', ',', 'he', 'lives', 'around', 'here', 'though']\n"
      ]
     },
     "metadata": {
      "application/vnd.databricks.v1+output": {
       "addedWidgets": {},
       "arguments": {},
       "data": "['nah', 'i', \"don't\", 'think', 'he', 'goes', 'to', 'usf', ',', 'he', 'lives', 'around', 'here', 'though']\n",
       "datasetInfos": [],
       "metadata": {},
       "removedWidgets": [],
       "type": "ansi"
      }
     },
     "output_type": "display_data"
    }
   ],
   "source": [
    "tokenizer = lambda text: casual_tokenize(text, preserve_case=False)\n",
    "print(tokenizer(sms))"
   ]
  },
  {
   "cell_type": "markdown",
   "metadata": {
    "application/vnd.databricks.v1+cell": {
     "cellMetadata": {},
     "inputWidgets": {},
     "nuid": "cccb2aae-7011-4b03-8eab-928a0e63d880",
     "showTitle": false,
     "title": ""
    },
    "id": "BGsIOJTZPQtr"
   },
   "source": [
    "Convert tokens to their stems. Experiment with stemmers and lemmatizers from the [NLTK](http://www.nltk.org/api/nltk.stem.html) library."
   ]
  },
  {
   "cell_type": "code",
   "execution_count": null,
   "metadata": {
    "application/vnd.databricks.v1+cell": {
     "cellMetadata": {},
     "inputWidgets": {},
     "nuid": "2ccfd29f-10c5-4500-af25-b01a5baf1afe",
     "showTitle": false,
     "title": ""
    }
   },
   "outputs": [],
   "source": [
    "from nltk.stem.porter import PorterStemmer\n",
    "stemmer = PorterStemmer()"
   ]
  },
  {
   "cell_type": "code",
   "execution_count": null,
   "metadata": {
    "application/vnd.databricks.v1+cell": {
     "cellMetadata": {},
     "inputWidgets": {},
     "nuid": "246a4871-1445-4abd-a749-ac7fc5e3e04f",
     "showTitle": false,
     "title": ""
    },
    "id": "ubwAEAWiPQtr"
   },
   "outputs": [
    {
     "data": {
      "text/plain": [
       "['nah', 'i', \"don't\", 'think', 'he', 'goe', 'to', 'usf', ',', 'he', 'live', 'around', 'here', 'though']\n"
      ]
     },
     "metadata": {
      "application/vnd.databricks.v1+output": {
       "addedWidgets": {},
       "arguments": {},
       "data": "['nah', 'i', \"don't\", 'think', 'he', 'goe', 'to', 'usf', ',', 'he', 'live', 'around', 'here', 'though']\n",
       "datasetInfos": [],
       "metadata": {},
       "removedWidgets": [],
       "type": "ansi"
      }
     },
     "output_type": "display_data"
    }
   ],
   "source": [
    "stem_tokenizer = lambda text: [stemmer.stem(w) for w in tokenizer(text)]\n",
    "print (stem_tokenizer(sms))"
   ]
  },
  {
   "cell_type": "markdown",
   "metadata": {
    "application/vnd.databricks.v1+cell": {
     "cellMetadata": {},
     "inputWidgets": {},
     "nuid": "ffa7a329-173c-44ab-9852-21226bdcf0d8",
     "showTitle": false,
     "title": ""
    },
    "id": "CuDUrMhNPQtt"
   },
   "source": [
    "Fit a [vectorizer](https://scikit-learn.org/stable/modules/generated/sklearn.feature_extraction.text.CountVectorizer.html) which converts texts to count vectors."
   ]
  },
  {
   "cell_type": "code",
   "execution_count": null,
   "metadata": {
    "application/vnd.databricks.v1+cell": {
     "cellMetadata": {},
     "inputWidgets": {},
     "nuid": "41ea8ada-2907-494d-91a3-88b61474772a",
     "showTitle": false,
     "title": ""
    }
   },
   "outputs": [],
   "source": [
    "from sklearn.feature_extraction.text import CountVectorizer\n",
    "vectorizer = CountVectorizer(tokenizer=stem_tokenizer, \n",
    "                             #token_pattern='(?u)\\b\\w\\w+\\b', \n",
    "                             stop_words=\"english\",\n",
    "                             strip_accents=None, \n",
    "                             lowercase=True, \n",
    "                             preprocessor=None, \n",
    "                             ngram_range=(1, 1), \n",
    "                             analyzer='word', \n",
    "                             max_df=1.0, \n",
    "                             min_df=1, \n",
    "                             max_features=5000, \n",
    "                             vocabulary=None,\n",
    "                             )"
   ]
  },
  {
   "cell_type": "code",
   "execution_count": null,
   "metadata": {
    "application/vnd.databricks.v1+cell": {
     "cellMetadata": {},
     "inputWidgets": {},
     "nuid": "33686a39-b2a2-4e60-96af-080dad441b31",
     "showTitle": false,
     "title": ""
    },
    "id": "t5m8ZQQ-PQtu"
   },
   "outputs": [
    {
     "data": {
      "text/plain": [
       "/databricks/python/lib/python3.9/site-packages/sklearn/feature_extraction/text.py:489: UserWarning: The parameter 'token_pattern' will not be used since 'tokenizer' is not None'\n",
       "  warnings.warn(\"The parameter 'token_pattern' will not be used\"\n",
       "/databricks/python/lib/python3.9/site-packages/sklearn/feature_extraction/text.py:388: UserWarning: Your stop_words may be inconsistent with your preprocessing. Tokenizing the stop words generated tokens ['abov', 'afterward', 'alon', 'alreadi', 'alway', 'ani', 'anoth', 'anyon', 'anyth', 'anywher', 'becam', 'becaus', 'becom', 'befor', 'besid', 'cri', 'describ', 'dure', 'els', 'elsewher', 'empti', 'everi', 'everyon', 'everyth', 'everywher', 'fifti', 'formerli', 'forti', 'ha', 'henc', 'hereaft', 'herebi', 'hi', 'howev', 'hundr', 'inde', 'latterli', 'mani', 'meanwhil', 'moreov', 'mostli', 'nobodi', 'noon', 'noth', 'nowher', 'onc', 'onli', 'otherwis', 'ourselv', 'perhap', 'pleas', 'seriou', 'sever', 'sinc', 'sincer', 'sixti', 'someon', 'someth', 'sometim', 'somewher', 'themselv', 'thenc', 'thereaft', 'therebi', 'therefor', 'thi', 'thu', 'togeth', 'twelv', 'twenti', 'veri', 'wa', 'whatev', 'whenc', 'whenev', 'wherea', 'whereaft', 'wherebi', 'wherev', 'whi', 'yourselv'] not in stop_words.\n",
       "  warnings.warn('Your stop_words may be inconsistent with '\n",
       "  (0, 13)\t1\n",
       "  (0, 1545)\t1\n",
       "  (0, 2032)\t1\n",
       "  (0, 2459)\t1\n",
       "  (0, 2685)\t1\n",
       "  (0, 4169)\t1\n",
       "  (0, 4482)\t1\n"
      ]
     },
     "metadata": {
      "application/vnd.databricks.v1+output": {
       "addedWidgets": {},
       "arguments": {},
       "data": "/databricks/python/lib/python3.9/site-packages/sklearn/feature_extraction/text.py:489: UserWarning: The parameter 'token_pattern' will not be used since 'tokenizer' is not None'\n  warnings.warn(\"The parameter 'token_pattern' will not be used\"\n/databricks/python/lib/python3.9/site-packages/sklearn/feature_extraction/text.py:388: UserWarning: Your stop_words may be inconsistent with your preprocessing. Tokenizing the stop words generated tokens ['abov', 'afterward', 'alon', 'alreadi', 'alway', 'ani', 'anoth', 'anyon', 'anyth', 'anywher', 'becam', 'becaus', 'becom', 'befor', 'besid', 'cri', 'describ', 'dure', 'els', 'elsewher', 'empti', 'everi', 'everyon', 'everyth', 'everywher', 'fifti', 'formerli', 'forti', 'ha', 'henc', 'hereaft', 'herebi', 'hi', 'howev', 'hundr', 'inde', 'latterli', 'mani', 'meanwhil', 'moreov', 'mostli', 'nobodi', 'noon', 'noth', 'nowher', 'onc', 'onli', 'otherwis', 'ourselv', 'perhap', 'pleas', 'seriou', 'sever', 'sinc', 'sincer', 'sixti', 'someon', 'someth', 'sometim', 'somewher', 'themselv', 'thenc', 'thereaft', 'therebi', 'therefor', 'thi', 'thu', 'togeth', 'twelv', 'twenti', 'veri', 'wa', 'whatev', 'whenc', 'whenev', 'wherea', 'whereaft', 'wherebi', 'wherev', 'whi', 'yourselv'] not in stop_words.\n  warnings.warn('Your stop_words may be inconsistent with '\n  (0, 13)\t1\n  (0, 1545)\t1\n  (0, 2032)\t1\n  (0, 2459)\t1\n  (0, 2685)\t1\n  (0, 4169)\t1\n  (0, 4482)\t1\n",
       "datasetInfos": [],
       "metadata": {},
       "removedWidgets": [],
       "type": "ansi"
      }
     },
     "output_type": "display_data"
    }
   ],
   "source": [
    "vectorizer.fit(X_train)\n",
    "print (vectorizer.transform([sms]))"
   ]
  },
  {
   "cell_type": "markdown",
   "metadata": {
    "application/vnd.databricks.v1+cell": {
     "cellMetadata": {},
     "inputWidgets": {},
     "nuid": "4a3a2826-c5f5-4417-9306-d2c4a4f3744c",
     "showTitle": false,
     "title": ""
    },
    "id": "Ntghj4fwPQtw"
   },
   "source": [
    "Convert count vectors to TFIDF"
   ]
  },
  {
   "cell_type": "code",
   "execution_count": null,
   "metadata": {
    "application/vnd.databricks.v1+cell": {
     "cellMetadata": {},
     "inputWidgets": {},
     "nuid": "7067c2bf-6057-4ad5-9bfb-e4e09e18fe4b",
     "showTitle": false,
     "title": ""
    }
   },
   "outputs": [],
   "source": [
    "from sklearn.feature_extraction.text import TfidfTransformer\n",
    "tfidf_transformer = TfidfTransformer()"
   ]
  },
  {
   "cell_type": "code",
   "execution_count": null,
   "metadata": {
    "application/vnd.databricks.v1+cell": {
     "cellMetadata": {},
     "inputWidgets": {},
     "nuid": "b035cece-0082-47e2-ad08-9ee8417eda6d",
     "showTitle": false,
     "title": ""
    },
    "id": "w3CkbR5YPQtx"
   },
   "outputs": [
    {
     "data": {
      "text/plain": [
       "  (0, 4482)\t0.4772054392095842\n",
       "  (0, 4169)\t0.30429178354495645\n",
       "  (0, 2685)\t0.4772054392095842\n",
       "  (0, 2459)\t0.3791671679066397\n",
       "  (0, 2032)\t0.42421064935534597\n",
       "  (0, 1545)\t0.3185247445325957\n",
       "  (0, 13)\t0.16363379516537374\n"
      ]
     },
     "metadata": {
      "application/vnd.databricks.v1+output": {
       "addedWidgets": {},
       "arguments": {},
       "data": "  (0, 4482)\t0.4772054392095842\n  (0, 4169)\t0.30429178354495645\n  (0, 2685)\t0.4772054392095842\n  (0, 2459)\t0.3791671679066397\n  (0, 2032)\t0.42421064935534597\n  (0, 1545)\t0.3185247445325957\n  (0, 13)\t0.16363379516537374\n",
       "datasetInfos": [],
       "metadata": {},
       "removedWidgets": [],
       "type": "ansi"
      }
     },
     "output_type": "display_data"
    }
   ],
   "source": [
    "tfidf_transformer.fit(vectorizer.transform(X_train))\n",
    "print(tfidf_transformer.transform(vectorizer.transform([sms])))"
   ]
  },
  {
   "cell_type": "code",
   "execution_count": null,
   "metadata": {
    "application/vnd.databricks.v1+cell": {
     "cellMetadata": {},
     "inputWidgets": {},
     "nuid": "a7204b1a-33b2-460e-a45b-93a10a6984d0",
     "showTitle": false,
     "title": ""
    }
   },
   "outputs": [
    {
     "data": {
      "text/plain": [
       "Out[25]: (4457,)"
      ]
     },
     "metadata": {
      "application/vnd.databricks.v1+output": {
       "addedWidgets": {},
       "arguments": {},
       "data": "Out[25]: (4457,)",
       "datasetInfos": [],
       "metadata": {},
       "removedWidgets": [],
       "type": "ansi"
      }
     },
     "output_type": "display_data"
    }
   ],
   "source": [
    "X_train.shape"
   ]
  },
  {
   "cell_type": "markdown",
   "metadata": {
    "application/vnd.databricks.v1+cell": {
     "cellMetadata": {},
     "inputWidgets": {},
     "nuid": "7babfee2-013b-4db8-900f-653ba844c5e5",
     "showTitle": false,
     "title": ""
    },
    "id": "7HyzLGEHPQt0"
   },
   "source": [
    "## Classification\n",
    "\n",
    "Train a classifier using the following models:\n",
    "* [Logistic regression](http://scikit-learn.org/0.15/modules/generated/sklearn.linear_model.LogisticRegression.html)\n",
    "* [Gradient Boosted Trees](http://scikit-learn.org/stable/modules/generated/sklearn.ensemble.GradientBoostingClassifier.html) (Experiment with different depths and number of trees)\n",
    "* [Support Vector Machines](http://scikit-learn.org/stable/modules/generated/sklearn.svm.SVC.html#sklearn.svm.SVC) (experiment with different kernels)"
   ]
  },
  {
   "cell_type": "code",
   "execution_count": null,
   "metadata": {
    "application/vnd.databricks.v1+cell": {
     "cellMetadata": {},
     "inputWidgets": {},
     "nuid": "ba8ea301-0101-4174-aff0-cebf7265ede1",
     "showTitle": false,
     "title": ""
    }
   },
   "outputs": [],
   "source": [
    "from sklearn.pipeline import Pipeline\n",
    "from sklearn.linear_model import LogisticRegression\n",
    "from sklearn import svm\n",
    "from sklearn.ensemble import GradientBoostingClassifier"
   ]
  },
  {
   "cell_type": "code",
   "execution_count": null,
   "metadata": {
    "application/vnd.databricks.v1+cell": {
     "cellMetadata": {},
     "inputWidgets": {},
     "nuid": "9204c93f-a46e-4acf-89d2-d899bc109363",
     "showTitle": false,
     "title": ""
    },
    "id": "o0vaZGwKPQt1"
   },
   "outputs": [
    {
     "data": {
      "text/plain": [
       "Out[26]: Pipeline(steps=[('vec',\n",
       "                 CountVectorizer(max_features=5000, stop_words='english',\n",
       "                                 tokenizer=<function <lambda> at 0x7fa2cbf1c280>)),\n",
       "                ('tfidf', TfidfTransformer()),\n",
       "                ('gbc', GradientBoostingClassifier(max_depth=4))])"
      ]
     },
     "metadata": {
      "application/vnd.databricks.v1+output": {
       "addedWidgets": {},
       "arguments": {},
       "data": "Out[26]: Pipeline(steps=[('vec',\n                 CountVectorizer(max_features=5000, stop_words='english',\n                                 tokenizer=<function <lambda> at 0x7fa2cbf1c280>)),\n                ('tfidf', TfidfTransformer()),\n                ('gbc', GradientBoostingClassifier(max_depth=4))])",
       "datasetInfos": [],
       "metadata": {},
       "removedWidgets": [],
       "type": "ansi"
      }
     },
     "output_type": "display_data"
    }
   ],
   "source": [
    "clf_pipeline = Pipeline([('vec', vectorizer),\n",
    "                         ('tfidf', tfidf_transformer),\n",
    "                         #('lr', LogisticRegression()),\n",
    "                         ('gbc', GradientBoostingClassifier(n_estimators=100, max_depth=4))\n",
    "                         #('svm', svm.SVC(kernel='linear'))\n",
    "                        ])\n",
    "clf_pipeline.fit(X_train, y_train)"
   ]
  },
  {
   "cell_type": "markdown",
   "metadata": {
    "application/vnd.databricks.v1+cell": {
     "cellMetadata": {},
     "inputWidgets": {},
     "nuid": "585eaf97-484c-4a25-adf5-5b55cd45bec5",
     "showTitle": false,
     "title": ""
    },
    "id": "E9IiR3XtPQt6"
   },
   "source": [
    "## Evaluation\n",
    "\n",
    "Compute common classification metrics and evaluate the models. Decide which model performs best on the given problem."
   ]
  },
  {
   "cell_type": "code",
   "execution_count": null,
   "metadata": {
    "application/vnd.databricks.v1+cell": {
     "cellMetadata": {},
     "inputWidgets": {},
     "nuid": "a2b1b25f-71ce-4ec2-9bbf-d69fb80b8123",
     "showTitle": false,
     "title": ""
    }
   },
   "outputs": [],
   "source": [
    "from sklearn import metrics\n",
    "from sklearn.metrics import accuracy_score\n",
    "from sklearn.metrics import confusion_matrix"
   ]
  },
  {
   "cell_type": "code",
   "execution_count": null,
   "metadata": {
    "application/vnd.databricks.v1+cell": {
     "cellMetadata": {},
     "inputWidgets": {},
     "nuid": "84634caa-0673-424c-aa32-411d267a99eb",
     "showTitle": false,
     "title": ""
    },
    "id": "-JVSENovPQt6"
   },
   "outputs": [
    {
     "data": {
      "text/plain": [
       "Test accuracy: 0.96323\n",
       "\n",
       "              precision    recall  f1-score   support\n",
       "\n",
       "           0     0.9828    0.7451    0.8476       153\n",
       "           1     0.9610    0.9979    0.9791       962\n",
       "\n",
       "    accuracy                         0.9632      1115\n",
       "   macro avg     0.9719    0.8715    0.9133      1115\n",
       "weighted avg     0.9640    0.9632    0.9610      1115\n",
       "\n"
      ]
     },
     "metadata": {
      "application/vnd.databricks.v1+output": {
       "addedWidgets": {},
       "arguments": {},
       "data": "Test accuracy: 0.96323\n\n              precision    recall  f1-score   support\n\n           0     0.9828    0.7451    0.8476       153\n           1     0.9610    0.9979    0.9791       962\n\n    accuracy                         0.9632      1115\n   macro avg     0.9719    0.8715    0.9133      1115\nweighted avg     0.9640    0.9632    0.9610      1115\n\n",
       "datasetInfos": [],
       "metadata": {},
       "removedWidgets": [],
       "type": "ansi"
      }
     },
     "output_type": "display_data"
    }
   ],
   "source": [
    "y_pred = clf_pipeline.predict(X_test)\n",
    "\n",
    "print (\"Test accuracy: {:.5f}\".format(accuracy_score(y_test, y_pred)))\n",
    "print()\n",
    "print(metrics.classification_report(y_test, y_pred, digits=4))"
   ]
  },
  {
   "cell_type": "code",
   "execution_count": null,
   "metadata": {
    "application/vnd.databricks.v1+cell": {
     "cellMetadata": {},
     "inputWidgets": {},
     "nuid": "12aef753-7db4-4d40-ac35-f22e8b4d5df1",
     "showTitle": false,
     "title": ""
    },
    "id": "HO8M7ajxPQt9"
   },
   "outputs": [
    {
     "data": {
      "text/plain": [
       "[[114  39]\n",
       " [  2 960]]\n",
       "Out[29]: <AxesSubplot:>"
      ]
     },
     "metadata": {
      "application/vnd.databricks.v1+output": {
       "addedWidgets": {},
       "arguments": {},
       "data": "[[114  39]\n [  2 960]]\nOut[29]: <AxesSubplot:>",
       "datasetInfos": [],
       "metadata": {},
       "removedWidgets": [],
       "type": "ansi"
      }
     },
     "output_type": "display_data"
    },
    {
     "data": {
      "image/png": "[encoded data removed]"
     },
     "metadata": {
      "application/vnd.databricks.v1+output": {
       "addedWidgets": {},
       "arguments": {},
       "data": "data:image/png;base64,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\n",
       "datasetInfos": [],
       "metadata": {},
       "removedWidgets": [],
       "type": "image"
      }
     },
     "output_type": "display_data"
    }
   ],
   "source": [
    "print(confusion_matrix(y_test, y_pred))\n",
    "df_cm = pd.DataFrame(confusion_matrix(y_test, y_pred))\n",
    "plt.figure(figsize = (10,7))\n",
    "sns.heatmap(df_cm, annot=True,  fmt='.0f')"
   ]
  },
  {
   "cell_type": "code",
   "execution_count": null,
   "metadata": {
    "application/vnd.databricks.v1+cell": {
     "cellMetadata": {},
     "inputWidgets": {},
     "nuid": "6ab06667-902b-4597-b510-47be014a50d6",
     "showTitle": false,
     "title": ""
    }
   },
   "outputs": [],
   "source": []
  }
 ],
 "metadata": {
  "application/vnd.databricks.v1+notebook": {
   "dashboards": [],
   "language": "python",
   "notebookMetadata": {
    "pythonIndentUnit": 4
   },
   "notebookName": "05_NLP_simple text_classification",
   "notebookOrigID": 1249573469312449,
   "widgets": {}
  },
  "colab": {
   "name": "01-text-classification-introduction.ipynb",
   "provenance": []
  },
  "kernelspec": {
   "display_name": "Python 3 (ipykernel)",
   "language": "python",
   "name": "python3"
  },
  "language_info": {
   "codemirror_mode": {
    "name": "ipython",
    "version": 3
   },
   "file_extension": ".py",
   "mimetype": "text/x-python",
   "name": "python",
   "nbconvert_exporter": "python",
   "pygments_lexer": "ipython3",
   "version": "3.11.5"
  }
 },
 "nbformat": 4,
 "nbformat_minor": 4
}
